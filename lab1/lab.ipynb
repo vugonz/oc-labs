{
 "cells": [
  {
   "cell_type": "markdown",
   "metadata": {},
   "source": [
    "# 2.1"
   ]
  },
  {
   "cell_type": "markdown",
   "metadata": {},
   "source": [
    "The results of `spark.out` were obtained running the program `spark.c` on lab5p7"
   ]
  },
  {
   "cell_type": "code",
   "execution_count": 25,
   "metadata": {},
   "outputs": [
    {
     "data": {
      "text/html": [
       "<table>\n",
       "<thead>\n",
       "<tr><th>Cache Size (KiB)  </th><th style=\"text-align: right;\">  Avg Elapsed Time (s)</th><th style=\"text-align: right;\">  # Accesses</th><th style=\"text-align: right;\">  Avg Time per Access (ns)</th></tr>\n",
       "</thead>\n",
       "<tbody>\n",
       "<tr><td>4 KiB             </td><td style=\"text-align: right;\">            0.00092925</td><td style=\"text-align: right;\">      409600</td><td style=\"text-align: right;\">                   2.26868</td></tr>\n",
       "<tr><td>8 KiB             </td><td style=\"text-align: right;\">            0.00188254</td><td style=\"text-align: right;\">      819200</td><td style=\"text-align: right;\">                   2.29802</td></tr>\n",
       "<tr><td>16 KiB            </td><td style=\"text-align: right;\">            0.00382021</td><td style=\"text-align: right;\">     1638400</td><td style=\"text-align: right;\">                   2.33167</td></tr>\n",
       "<tr><td>32 KiB            </td><td style=\"text-align: right;\">            0.00756427</td><td style=\"text-align: right;\">     3276800</td><td style=\"text-align: right;\">                   2.30843</td></tr>\n",
       "<tr><td>64 KiB            </td><td style=\"text-align: right;\">            0.0167127 </td><td style=\"text-align: right;\">     6553600</td><td style=\"text-align: right;\">                   2.55015</td></tr>\n",
       "<tr><td>128 KiB           </td><td style=\"text-align: right;\">            0.0396387 </td><td style=\"text-align: right;\">    13107200</td><td style=\"text-align: right;\">                   3.02419</td></tr>\n",
       "<tr><td>256 KiB           </td><td style=\"text-align: right;\">            0.0934102 </td><td style=\"text-align: right;\">    26214400</td><td style=\"text-align: right;\">                   3.56332</td></tr>\n",
       "<tr><td>512 KiB           </td><td style=\"text-align: right;\">            0.203428  </td><td style=\"text-align: right;\">    52428800</td><td style=\"text-align: right;\">                   3.88008</td></tr>\n",
       "<tr><td>1024 KiB          </td><td style=\"text-align: right;\">            0.442602  </td><td style=\"text-align: right;\">   104857600</td><td style=\"text-align: right;\">                   4.22098</td></tr>\n",
       "<tr><td>2048 KiB          </td><td style=\"text-align: right;\">            0.921256  </td><td style=\"text-align: right;\">   209715200</td><td style=\"text-align: right;\">                   4.39289</td></tr>\n",
       "<tr><td>4096 KiB          </td><td style=\"text-align: right;\">            2.06407   </td><td style=\"text-align: right;\">   419430400</td><td style=\"text-align: right;\">                   4.92114</td></tr>\n",
       "</tbody>\n",
       "</table>"
      ],
      "text/plain": [
       "'<table>\\n<thead>\\n<tr><th>Cache Size (KiB)  </th><th style=\"text-align: right;\">  Avg Elapsed Time (s)</th><th style=\"text-align: right;\">  # Accesses</th><th style=\"text-align: right;\">  Avg Time per Access (ns)</th></tr>\\n</thead>\\n<tbody>\\n<tr><td>4 KiB             </td><td style=\"text-align: right;\">            0.00092925</td><td style=\"text-align: right;\">      409600</td><td style=\"text-align: right;\">                   2.26868</td></tr>\\n<tr><td>8 KiB             </td><td style=\"text-align: right;\">            0.00188254</td><td style=\"text-align: right;\">      819200</td><td style=\"text-align: right;\">                   2.29802</td></tr>\\n<tr><td>16 KiB            </td><td style=\"text-align: right;\">            0.00382021</td><td style=\"text-align: right;\">     1638400</td><td style=\"text-align: right;\">                   2.33167</td></tr>\\n<tr><td>32 KiB            </td><td style=\"text-align: right;\">            0.00756427</td><td style=\"text-align: right;\">     3276800</td><td style=\"text-align: right;\">                   2.30843</td></tr>\\n<tr><td>64 KiB            </td><td style=\"text-align: right;\">            0.0167127 </td><td style=\"text-align: right;\">     6553600</td><td style=\"text-align: right;\">                   2.55015</td></tr>\\n<tr><td>128 KiB           </td><td style=\"text-align: right;\">            0.0396387 </td><td style=\"text-align: right;\">    13107200</td><td style=\"text-align: right;\">                   3.02419</td></tr>\\n<tr><td>256 KiB           </td><td style=\"text-align: right;\">            0.0934102 </td><td style=\"text-align: right;\">    26214400</td><td style=\"text-align: right;\">                   3.56332</td></tr>\\n<tr><td>512 KiB           </td><td style=\"text-align: right;\">            0.203428  </td><td style=\"text-align: right;\">    52428800</td><td style=\"text-align: right;\">                   3.88008</td></tr>\\n<tr><td>1024 KiB          </td><td style=\"text-align: right;\">            0.442602  </td><td style=\"text-align: right;\">   104857600</td><td style=\"text-align: right;\">                   4.22098</td></tr>\\n<tr><td>2048 KiB          </td><td style=\"text-align: right;\">            0.921256  </td><td style=\"text-align: right;\">   209715200</td><td style=\"text-align: right;\">                   4.39289</td></tr>\\n<tr><td>4096 KiB          </td><td style=\"text-align: right;\">            2.06407   </td><td style=\"text-align: right;\">   419430400</td><td style=\"text-align: right;\">                   4.92114</td></tr>\\n</tbody>\\n</table>'"
      ]
     },
     "execution_count": 25,
     "metadata": {},
     "output_type": "execute_result"
    }
   ],
   "source": [
    "import tabulate\n",
    "\n",
    "NR_ITERATIONS = 100  # defined in spark.c\n",
    "CACHE_MIN     = 4    # in KiB\n",
    "\n",
    "sample = [[\"Cache Size (KiB)\", \"Avg Elapsed Time (s)\", \"# Accesses\", \"Avg Time per Access (ns)\"]]\n",
    "\n",
    "fp = open(\"spark.out\", \"r\")\n",
    "next(fp)             # ignore first line\n",
    "line = fp.readline() # second line, [LOG] line which we ignore, we just read it here to initialize the loop condition\n",
    "\n",
    "cache_size = CACHE_MIN\n",
    "cum_elapsed_time = 0.0\n",
    "elapsed_time_obs_count = 0\n",
    "\n",
    "while line:\n",
    "    line = fp.readline()\n",
    "    \n",
    "    if line.startswith(\"[LOG]\") or line == \"\":\n",
    "        avg_elapsed_time = float(cum_elapsed_time) / elapsed_time_obs_count\n",
    "        nr_accesses = cache_size * 2**10 * NR_ITERATIONS # reverse engineering the number: \n",
    "                                                         # in spark.c every stride value simulates the same nr of accesses, \n",
    "                                                         # considering stride = 1 we can see this is the nr of accesses for each cache_size\n",
    "\n",
    "        sample.append([f\"{cache_size} KiB\", avg_elapsed_time, nr_accesses, (avg_elapsed_time / nr_accesses) * 10**9])\n",
    "\n",
    "        cache_size *= 2\n",
    "        cum_elapsed_time = 0.0\n",
    "        elapsed_time_obs_count = 0\n",
    "        continue\n",
    "\n",
    "    _, _, elapsed_time, *_ = line.split(\"\\t\")\n",
    "    cum_elapsed_time += float(elapsed_time)\n",
    "    elapsed_time_obs_count += 1\n",
    "\n",
    "\n",
    "tabulate.tabulate(sample, headers=\"firstrow\", tablefmt=\"html\")"
   ]
  },
  {
   "cell_type": "markdown",
   "metadata": {},
   "source": [
    "We conclude that the cache capacity is 32 KiB because that's where we see the first singificant increase in average time per access, prior to 64 KiB the time remained kind of constant. We could be tempted to guess 64KiB is the cache capacity since 2.55ns to 3.02ns is a much bigger difference, however, looking at the following data in `spark.out`\n",
    "```\n",
    "size\tstride\telapsed(s)\tcycles\n",
    "(...)\n",
    "[LOG]: running with array of size 64 KiB\n",
    "65536\t1\t    0.014075\t14076\t\n",
    "65536\t2\t    0.013435\t13435\t\n",
    "65536\t4\t    0.015363\t15363\t\n",
    "65536\t8\t    0.015878\t15878\t\n",
    "65536\t16\t    0.015519\t15519\t\n",
    "65536\t32\t    0.015379\t15379\t\n",
    "65536\t64\t    0.013368\t13368\t\n",
    "65536\t128\t    0.013804\t13804\t\n",
    "65536\t256\t    0.013328\t13329\t\n",
    "65536\t512\t    0.013572\t13571\t\n",
    "65536\t1024    0.013174\t13174\t\n",
    "65536\t2048    0.028942\t28941\t\n",
    "65536\t4096    0.035842\t35842\t\n",
    "65536\t8192    0.015605\t15605\t\n",
    "65536\t16384   0.015422\t15422\t\n",
    "65536\t32768   0.014697\t14698\n",
    "```\n",
    "we can see the elapsed time for stride values of 2048 and 4096 is much bigger than other observations, this indicates the miss rate has slightly inscreased (even if there were still cache misses happening with different stride values), meaning our L1 cache filled up and cannot hold 64 KiB of data."
   ]
  },
  {
   "cell_type": "markdown",
   "metadata": {},
   "source": [
    "<table>\n",
    "  <tr>\n",
    "    <th>Array Size:</th>\n",
    "    <td>8 KiB</td>\n",
    "    <td>16 KiB</td>\n",
    "    <td>32 KiB</td>\n",
    "    <td>64 KiB</td>\n",
    "    <td>128 KiB</td>\n",
    "  </tr>\n",
    "  <tr>\n",
    "    <th>t2 - t1 (s):</th>\n",
    "    <td>0.00188254</td>\n",
    "    <td>0.00382021</td>\n",
    "    <td>0.00756427</td>\n",
    "    <td>0.0167127 </td>\n",
    "    <td>0.0396387 </td>\n",
    "  </tr>\n",
    "  <tr>\n",
    "    <th># accesses[i]:</th>\n",
    "    <td>819200</td>\n",
    "    <td>1638400</td>\n",
    "    <td>3276800</td>\n",
    "    <td>6553600</td>\n",
    "    <td>13107200</td>\n",
    "  <tr>\n",
    "    <th># mean accesse time (ns)</th>\n",
    "    <td>2.29802</td>\n",
    "    <td>2.33167</td>\n",
    "    <td>2.30843</td>\n",
    "    <td>2.55015</td>\n",
    "    <td>3.02419</td>\n",
    "  </tr>\n",
    "</table>"
   ]
  },
  {
   "cell_type": "markdown",
   "metadata": {},
   "source": [
    "# 2.2"
   ]
  },
  {
   "cell_type": "markdown",
   "metadata": {},
   "source": [
    "In the chart, we can identify a group of array sizes whose access time is small, and another group whose access time is significantly higher. We then conclude the cache size to be 64 KiB because up until that point, all the array values can fit into cache, making the read and write operation times small and relatively constant, regardless of stride. At 128 KiB, all the array content cannot fit simultaneously into cache, resulting in cache misses and, consequently, higher read and write times.\n"
   ]
  },
  {
   "cell_type": "markdown",
   "metadata": {},
   "source": [
    "# 2.3"
   ]
  },
  {
   "cell_type": "markdown",
   "metadata": {},
   "source": [
    "For the arrays whose size exceeds the cache capacity (>= 128 KiB) we can determine the cache block's size by seeing which stride value stabilizes the read and write times. For stride values below 16, the access times increase for each stride step, after 16 the read and write times stabilize because we start accessing contents that fall on different cache blocks and, since the entire array cannot entirely fit into cache, this will lead to a 100% miss rate. All subsequent strides values will keep the 100% miss rate.\n",
    "\n",
    "We can then determine the cache block's size to be **16 Bytes** (since our array is of type `uint8_t`)."
   ]
  },
  {
   "cell_type": "code",
   "execution_count": null,
   "metadata": {},
   "outputs": [],
   "source": []
  }
 ],
 "metadata": {
  "kernelspec": {
   "display_name": "Python 3 (ipykernel)",
   "language": "python",
   "name": "python3"
  },
  "language_info": {
   "codemirror_mode": {
    "name": "ipython",
    "version": 3
   },
   "file_extension": ".py",
   "mimetype": "text/x-python",
   "name": "python",
   "nbconvert_exporter": "python",
   "pygments_lexer": "ipython3",
   "version": "3.11.5"
  }
 },
 "nbformat": 4,
 "nbformat_minor": 4
}
